{
  "cells": [
    {
      "cell_type": "markdown",
      "id": "6f23dd9d",
      "metadata": {
        "id": "6f23dd9d"
      },
      "source": [
        "# **Telecom X: Previsão de Churn com Machine Learning**  \n",
        "\n",
        "## **Visão Geral do Projeto**  \n",
        "Este desafio foca na **construção de modelos preditivos** para antecipar a evasão de clientes (*churn*) em uma operadora de telecomunicações. Utilizando dados pré-processados (ETL - Parte 1), o projeto abrange desde análise exploratória até a implantação de algoritmos de classificação, com o objetivo de:  \n",
        "- **Identificar padrões** críticos nos dados.  \n",
        "- **Prever riscos de churn** com métricas mensuráveis.  \n",
        "- **Gerar insights acionáveis** para a equipe de retenção.  \n",
        "\n",
        "---\n",
        "\n",
        "## **Destaques do Fluxo de Trabalho**  \n",
        "### 🔎 **Análise Exploratória (EDA)**  \n",
        "- Correlações entre variáveis (ex: tempo de contrato vs. churn).  \n",
        "- Visualização de perfis de clientes (fiéis vs. evadidos).  \n",
        "\n",
        "### ⚙️ **Pré-processamento**  \n",
        "- Codificação de variáveis categóricas (*One-Hot Encoding*).  \n",
        "- Normalização de dados numéricos.  \n",
        "- Divisão estratificada (treino/teste).  \n",
        "\n",
        "### 🤖 **Modelagem Preditiva**  \n",
        "- **Algoritmos testados**:  \n",
        "  - *Baseline*: Regressão Logística.  \n",
        "  - *Comparação*: Random Forest e XGBoost.  \n",
        "- **Métricas de avaliação**:  \n",
        "  - Precisão, Recall, AUC-ROC, Matriz de Confusão.  \n",
        "\n",
        "### 📈 **Resultados e Ações**  \n",
        "- Importância das features (SHAP/Feature Importance).  \n",
        "- Recomendações baseadas em dados (ex: \"Clientes com contrato mensal têm 3x mais churn\").  \n",
        "\n",
        "---\n",
        "\n",
        "## **Estrutura do Repositório**  \n",
        "```\n",
        "TELECOM-X2/\n",
        "├── data/\n",
        "│   ├── raw/                    # Dados originais\n",
        "│   └── processed/              # Dados tratados (CSV/Parquet)\n",
        "├── notebooks/\n",
        "│   ├── EDA.ipynb               # Análise exploratória\n",
        "│   └── Modelagem.ipynb         # Treino e avaliação\n",
        "├── visualizations/             # Gráficos exportados\n",
        "├── .gitignore                  # Configuração do Git\n",
        "├── README.md                   # Documentação\n",
        "└── task.md                     # Requisitos do desafio\n",
        "```\n",
        "\n",
        "---\n",
        "\n",
        "## **Ferramentas e Tecnologias**  \n",
        "- **Linguagem**: Python.  \n",
        "- **Bibliotecas**: Pandas, Scikit-Learn, XGBoost, Matplotlib/Seaborn.  \n",
        "- **Versionamento**: Git/GitHub.  \n",
        "- **Ambiente**: Jupyter Notebook ou Google Colab.  \n",
        "\n",
        "---\n",
        "\n",
        "## **Próximos Passos**  \n",
        "1. **Carregar dados** e validar qualidade.  \n",
        "2. **Explorar correlações** com heatmaps e histogramas.  \n",
        "3. **Treinar modelos** e comparar performance.  \n",
        "4. **Documentar insights** no README.  \n",
        "\n",
        "**Objetivo Final**: Entregar um pipeline reprodutível para prever churn, com impacto mensurável na redução de evasão.  "
      ]
    },
    {
      "cell_type": "markdown",
      "source": [
        "# Telecom X: Preparação dos Dados para Modelagem de Churn\n",
        "\n",
        "Preparação dos dados para o modelo de previsão de churn. Vamos seguir as etapas solicitadas:\n",
        "\n",
        "## 1. Carregamento e Inspeção Inicial dos Dados\n"
      ],
      "metadata": {
        "id": "QXVl3tJnuZYo"
      },
      "id": "QXVl3tJnuZYo"
    },
    {
      "cell_type": "code",
      "source": [
        "import pandas as pd\n",
        "import numpy as np\n",
        "from sklearn.preprocessing import OneHotEncoder, StandardScaler\n",
        "from sklearn.model_selection import train_test_split\n",
        "from imblearn.over_sampling import SMOTE\n",
        "\n",
        "# Carregar os dados\n",
        "df = pd.read_csv('dados.csv')\n",
        "\n",
        "# Visualizar as primeiras linhas\n",
        "print(df.head())\n",
        "print(\"\\nInformações do DataFrame:\")\n",
        "print(df.info())"
      ],
      "metadata": {
        "colab": {
          "base_uri": "https://localhost:8080/"
        },
        "id": "CLh8UIMFxbN1",
        "outputId": "a25566f3-d69a-43ab-b5f6-6b1e0aa5f736"
      },
      "id": "CLh8UIMFxbN1",
      "execution_count": 2,
      "outputs": [
        {
          "output_type": "stream",
          "name": "stdout",
          "text": [
            "   customerID Churn                                           customer  \\\n",
            "0  0002-ORFBO    No  {'gender': 'Female', 'SeniorCitizen': 0, 'Part...   \n",
            "1  0003-MKNFE    No  {'gender': 'Male', 'SeniorCitizen': 0, 'Partne...   \n",
            "2  0004-TLHLJ   Yes  {'gender': 'Male', 'SeniorCitizen': 0, 'Partne...   \n",
            "3  0011-IGKFF   Yes  {'gender': 'Male', 'SeniorCitizen': 1, 'Partne...   \n",
            "4  0013-EXCHZ   Yes  {'gender': 'Female', 'SeniorCitizen': 1, 'Part...   \n",
            "\n",
            "                                             phone  \\\n",
            "0   {'PhoneService': 'Yes', 'MultipleLines': 'No'}   \n",
            "1  {'PhoneService': 'Yes', 'MultipleLines': 'Yes'}   \n",
            "2   {'PhoneService': 'Yes', 'MultipleLines': 'No'}   \n",
            "3   {'PhoneService': 'Yes', 'MultipleLines': 'No'}   \n",
            "4   {'PhoneService': 'Yes', 'MultipleLines': 'No'}   \n",
            "\n",
            "                                            internet  \\\n",
            "0  {'InternetService': 'DSL', 'OnlineSecurity': '...   \n",
            "1  {'InternetService': 'DSL', 'OnlineSecurity': '...   \n",
            "2  {'InternetService': 'Fiber optic', 'OnlineSecu...   \n",
            "3  {'InternetService': 'Fiber optic', 'OnlineSecu...   \n",
            "4  {'InternetService': 'Fiber optic', 'OnlineSecu...   \n",
            "\n",
            "                                             account  \n",
            "0  {'Contract': 'One year', 'PaperlessBilling': '...  \n",
            "1  {'Contract': 'Month-to-month', 'PaperlessBilli...  \n",
            "2  {'Contract': 'Month-to-month', 'PaperlessBilli...  \n",
            "3  {'Contract': 'Month-to-month', 'PaperlessBilli...  \n",
            "4  {'Contract': 'Month-to-month', 'PaperlessBilli...  \n",
            "\n",
            "Informações do DataFrame:\n",
            "<class 'pandas.core.frame.DataFrame'>\n",
            "RangeIndex: 7267 entries, 0 to 7266\n",
            "Data columns (total 6 columns):\n",
            " #   Column      Non-Null Count  Dtype \n",
            "---  ------      --------------  ----- \n",
            " 0   customerID  7267 non-null   object\n",
            " 1   Churn       7043 non-null   object\n",
            " 2   customer    7267 non-null   object\n",
            " 3   phone       7267 non-null   object\n",
            " 4   internet    7267 non-null   object\n",
            " 5   account     7267 non-null   object\n",
            "dtypes: object(6)\n",
            "memory usage: 340.8+ KB\n",
            "None\n"
          ]
        }
      ]
    },
    {
      "cell_type": "markdown",
      "source": [
        "## 2. Remoção de Colunas Irrelevantes e Tratamento de Valores Ausentes"
      ],
      "metadata": {
        "id": "RNuYWcIeyGse"
      },
      "id": "RNuYWcIeyGse"
    },
    {
      "cell_type": "code",
      "source": [
        "# Remover colunas de identificação que não são úteis para o modelo\n",
        "colunas_remover = ['customerID']\n",
        "df = df.drop(columns=colunas_remover, errors='ignore')\n",
        "\n",
        "# Remover linhas onde 'Churn' é nulo (antes de qualquer análise/modelagem)\n",
        "df = df.dropna(subset=['Churn'])\n",
        "\n",
        "# Verificar colunas restantes e tamanho do DataFrame após limpeza\n",
        "print(\"\\nColunas após remoção:\")\n",
        "print(df.columns)\n",
        "print(f\"\\nTotal de registros após remoção: {len(df)}\")"
      ],
      "metadata": {
        "colab": {
          "base_uri": "https://localhost:8080/"
        },
        "id": "FkpKYyKMyGeU",
        "outputId": "1c5da23d-f6f4-468f-9160-d4fecf2a7d78"
      },
      "id": "FkpKYyKMyGeU",
      "execution_count": 3,
      "outputs": [
        {
          "output_type": "stream",
          "name": "stdout",
          "text": [
            "\n",
            "Colunas após remoção:\n",
            "Index(['Churn', 'customer', 'phone', 'internet', 'account'], dtype='object')\n",
            "\n",
            "Total de registros após remoção: 7043\n"
          ]
        }
      ]
    },
    {
      "cell_type": "markdown",
      "source": [
        "## 3. Extração e Expansão de Dados Aninhados"
      ],
      "metadata": {
        "id": "n2n6jQ8QyoKU"
      },
      "id": "n2n6jQ8QyoKU"
    },
    {
      "cell_type": "code",
      "source": [
        "import ast\n",
        "\n",
        "# Função melhorada para extrair dados aninhados com tratamento de erros\n",
        "def expand_dict_columns(df, column_name):\n",
        "    try:\n",
        "        # Converter strings para dicionários\n",
        "        expanded = df[column_name].apply(lambda x: ast.literal_eval(x) if pd.notna(x) else {})\n",
        "\n",
        "        # Normalizar os dados aninhados\n",
        "        expanded_df = pd.json_normalize(expanded)\n",
        "\n",
        "        # Renomear colunas para incluir o nome original\n",
        "        expanded_df.columns = [f\"{column_name}_{col}\" for col in expanded_df.columns]\n",
        "\n",
        "        # Verificar se a expansão criou colunas\n",
        "        if expanded_df.empty:\n",
        "            print(f\"Aviso: A coluna {column_name} não foi expandida (nenhum dado aninhado encontrado)\")\n",
        "            return pd.DataFrame()\n",
        "\n",
        "        return expanded_df\n",
        "\n",
        "    except Exception as e:\n",
        "        print(f\"Erro ao processar a coluna {column_name}: {str(e)}\")\n",
        "        return pd.DataFrame()\n",
        "\n",
        "# Lista de colunas aninhadas para expandir\n",
        "nested_columns = ['customer', 'phone', 'internet', 'account']\n",
        "\n",
        "# Expandir cada coluna aninhada e armazenar os resultados\n",
        "expanded_dfs = {}\n",
        "for col in nested_columns:\n",
        "    expanded_dfs[col] = expand_dict_columns(df, col)\n",
        "    print(f\"\\nColunas criadas a partir de {col}:\")\n",
        "    print(expanded_dfs[col].columns.tolist())\n",
        "\n",
        "# Concatenar todas as expansões com o DataFrame original\n",
        "df_expanded = pd.concat([\n",
        "    df.drop(columns=nested_columns),\n",
        "    *expanded_dfs.values()\n",
        "], axis=1)\n",
        "\n",
        "# Verificar o novo formato\n",
        "print(\"\\nResumo do DataFrame após expansão:\")\n",
        "print(f\"Número de colunas original: {len(df.columns)}\")\n",
        "print(f\"Número de colunas após expansão: {len(df_expanded.columns)}\")\n",
        "print(\"\\nPrimeiras linhas após expansão:\")\n",
        "print(df_expanded.head(2).T)  # Transposto para melhor visualização"
      ],
      "metadata": {
        "colab": {
          "base_uri": "https://localhost:8080/"
        },
        "id": "MpSZ2keNyn9S",
        "outputId": "58c59131-3aea-4b9f-fbfb-1dc915223ad4"
      },
      "id": "MpSZ2keNyn9S",
      "execution_count": 4,
      "outputs": [
        {
          "output_type": "stream",
          "name": "stdout",
          "text": [
            "\n",
            "Colunas criadas a partir de customer:\n",
            "['customer_gender', 'customer_SeniorCitizen', 'customer_Partner', 'customer_Dependents', 'customer_tenure']\n",
            "\n",
            "Colunas criadas a partir de phone:\n",
            "['phone_PhoneService', 'phone_MultipleLines']\n",
            "\n",
            "Colunas criadas a partir de internet:\n",
            "['internet_InternetService', 'internet_OnlineSecurity', 'internet_OnlineBackup', 'internet_DeviceProtection', 'internet_TechSupport', 'internet_StreamingTV', 'internet_StreamingMovies']\n",
            "\n",
            "Colunas criadas a partir de account:\n",
            "['account_Contract', 'account_PaperlessBilling', 'account_PaymentMethod', 'account_Charges.Monthly', 'account_Charges.Total']\n",
            "\n",
            "Resumo do DataFrame após expansão:\n",
            "Número de colunas original: 5\n",
            "Número de colunas após expansão: 20\n",
            "\n",
            "Primeiras linhas após expansão:\n",
            "                                      0               1\n",
            "Churn                                No              No\n",
            "customer_gender                  Female            Male\n",
            "customer_SeniorCitizen              0.0             0.0\n",
            "customer_Partner                    Yes              No\n",
            "customer_Dependents                 Yes              No\n",
            "customer_tenure                     9.0             9.0\n",
            "phone_PhoneService                  Yes             Yes\n",
            "phone_MultipleLines                  No             Yes\n",
            "internet_InternetService            DSL             DSL\n",
            "internet_OnlineSecurity              No              No\n",
            "internet_OnlineBackup               Yes              No\n",
            "internet_DeviceProtection            No              No\n",
            "internet_TechSupport                Yes              No\n",
            "internet_StreamingTV                Yes              No\n",
            "internet_StreamingMovies             No             Yes\n",
            "account_Contract               One year  Month-to-month\n",
            "account_PaperlessBilling            Yes              No\n",
            "account_PaymentMethod      Mailed check    Mailed check\n",
            "account_Charges.Monthly            65.6            59.9\n",
            "account_Charges.Total             593.3           542.4\n"
          ]
        }
      ]
    },
    {
      "cell_type": "markdown",
      "source": [
        "## 4. Encoding de Variáveis Categóricas"
      ],
      "metadata": {
        "id": "25CywCNKy-Zy"
      },
      "id": "25CywCNKy-Zy"
    },
    {
      "cell_type": "code",
      "source": [
        "# Identificar colunas categóricas e numéricas de forma mais precisa\n",
        "categorical_cols = df_expanded.select_dtypes(include=['object', 'bool']).columns.tolist()\n",
        "numerical_cols = df_expanded.select_dtypes(include=['int64', 'float64']).columns.tolist()\n",
        "\n",
        "# Verificar e tratar a variável target\n",
        "target_col = 'Churn'\n",
        "if target_col in categorical_cols:\n",
        "    categorical_cols.remove(target_col)\n",
        "    # Converter target para binário (0/1)\n",
        "    df_expanded[target_col] = df_expanded[target_col].map({'Yes': 1, 'No': 0})\n",
        "\n",
        "# Tratar a coluna account_Charges.Total que parece categórica (foi identificada como objeto)\n",
        "if 'account_Charges.Total' in categorical_cols:\n",
        "    try:\n",
        "        df_expanded['account_Charges.Total'] = pd.to_numeric(df_expanded['account_Charges.Total'])\n",
        "        numerical_cols.append('account_Charges.Total')\n",
        "        categorical_cols.remove('account_Charges.Total')\n",
        "    except Exception as e:\n",
        "        print(f\"Erro ao converter account_Charges.Total: {str(e)}\")\n",
        "\n",
        "print(\"\\nColunas categóricas para encoding:\", categorical_cols)\n",
        "print(\"Colunas numéricas:\", numerical_cols)\n",
        "print(\"\\nDistribuição das categorias:\")\n",
        "for col in categorical_cols:\n",
        "    print(f\"\\n{col}:\")\n",
        "    print(df_expanded[col].value_counts())\n",
        "\n",
        "# Aplicar One-Hot Encoding com tratamento para categorias raras\n",
        "encoder = OneHotEncoder(drop='first', sparse_output=False, handle_unknown='ignore')\n",
        "encoded_data = encoder.fit_transform(df_expanded[categorical_cols])\n",
        "encoded_cols = encoder.get_feature_names_out(categorical_cols)\n",
        "\n",
        "# Criar DataFrame com variáveis codificadas\n",
        "df_encoded = pd.DataFrame(encoded_data, columns=encoded_cols, index=df_expanded.index)\n",
        "\n",
        "# Concatenar com as numéricas e a target\n",
        "df_final = pd.concat([\n",
        "    df_expanded[numerical_cols],\n",
        "    df_encoded,\n",
        "    df_expanded[target_col]\n",
        "], axis=1)\n",
        "\n",
        "# Verificar resultado\n",
        "print(\"\\nResumo do DataFrame após encoding:\")\n",
        "print(f\"Total de colunas: {len(df_final.columns)}\")\n",
        "print(\"\\nPrimeiras linhas:\")\n",
        "print(df_final.iloc[:, -10:].head())  # Mostrar as últimas 10 colunas para visualizar o encoding"
      ],
      "metadata": {
        "colab": {
          "base_uri": "https://localhost:8080/"
        },
        "id": "rorLSWrwy-NB",
        "outputId": "ff8b1075-9587-437a-8dc7-b4fcde3b8e61"
      },
      "id": "rorLSWrwy-NB",
      "execution_count": 5,
      "outputs": [
        {
          "output_type": "stream",
          "name": "stdout",
          "text": [
            "Erro ao converter account_Charges.Total: Unable to parse string \" \" at position 916\n",
            "\n",
            "Colunas categóricas para encoding: ['customer_gender', 'customer_Partner', 'customer_Dependents', 'phone_PhoneService', 'phone_MultipleLines', 'internet_InternetService', 'internet_OnlineSecurity', 'internet_OnlineBackup', 'internet_DeviceProtection', 'internet_TechSupport', 'internet_StreamingTV', 'internet_StreamingMovies', 'account_Contract', 'account_PaperlessBilling', 'account_PaymentMethod', 'account_Charges.Total']\n",
            "Colunas numéricas: ['customer_SeniorCitizen', 'customer_tenure', 'account_Charges.Monthly']\n",
            "\n",
            "Distribuição das categorias:\n",
            "\n",
            "customer_gender:\n",
            "customer_gender\n",
            "Male      3555\n",
            "Female    3488\n",
            "Name: count, dtype: int64\n",
            "\n",
            "customer_Partner:\n",
            "customer_Partner\n",
            "No     3641\n",
            "Yes    3402\n",
            "Name: count, dtype: int64\n",
            "\n",
            "customer_Dependents:\n",
            "customer_Dependents\n",
            "No     4933\n",
            "Yes    2110\n",
            "Name: count, dtype: int64\n",
            "\n",
            "phone_PhoneService:\n",
            "phone_PhoneService\n",
            "Yes    6361\n",
            "No      682\n",
            "Name: count, dtype: int64\n",
            "\n",
            "phone_MultipleLines:\n",
            "phone_MultipleLines\n",
            "No                  3390\n",
            "Yes                 2971\n",
            "No phone service     682\n",
            "Name: count, dtype: int64\n",
            "\n",
            "internet_InternetService:\n",
            "internet_InternetService\n",
            "Fiber optic    3096\n",
            "DSL            2421\n",
            "No             1526\n",
            "Name: count, dtype: int64\n",
            "\n",
            "internet_OnlineSecurity:\n",
            "internet_OnlineSecurity\n",
            "No                     3498\n",
            "Yes                    2019\n",
            "No internet service    1526\n",
            "Name: count, dtype: int64\n",
            "\n",
            "internet_OnlineBackup:\n",
            "internet_OnlineBackup\n",
            "No                     3088\n",
            "Yes                    2429\n",
            "No internet service    1526\n",
            "Name: count, dtype: int64\n",
            "\n",
            "internet_DeviceProtection:\n",
            "internet_DeviceProtection\n",
            "No                     3095\n",
            "Yes                    2422\n",
            "No internet service    1526\n",
            "Name: count, dtype: int64\n",
            "\n",
            "internet_TechSupport:\n",
            "internet_TechSupport\n",
            "No                     3473\n",
            "Yes                    2044\n",
            "No internet service    1526\n",
            "Name: count, dtype: int64\n",
            "\n",
            "internet_StreamingTV:\n",
            "internet_StreamingTV\n",
            "No                     2810\n",
            "Yes                    2707\n",
            "No internet service    1526\n",
            "Name: count, dtype: int64\n",
            "\n",
            "internet_StreamingMovies:\n",
            "internet_StreamingMovies\n",
            "No                     2785\n",
            "Yes                    2732\n",
            "No internet service    1526\n",
            "Name: count, dtype: int64\n",
            "\n",
            "account_Contract:\n",
            "account_Contract\n",
            "Month-to-month    3875\n",
            "Two year          1695\n",
            "One year          1473\n",
            "Name: count, dtype: int64\n",
            "\n",
            "account_PaperlessBilling:\n",
            "account_PaperlessBilling\n",
            "Yes    4171\n",
            "No     2872\n",
            "Name: count, dtype: int64\n",
            "\n",
            "account_PaymentMethod:\n",
            "account_PaymentMethod\n",
            "Electronic check             2365\n",
            "Mailed check                 1612\n",
            "Bank transfer (automatic)    1544\n",
            "Credit card (automatic)      1522\n",
            "Name: count, dtype: int64\n",
            "\n",
            "account_Charges.Total:\n",
            "account_Charges.Total\n",
            "20.2      11\n",
            "          11\n",
            "19.75      9\n",
            "20.05      8\n",
            "19.65      8\n",
            "          ..\n",
            "985.05     1\n",
            "676.15     1\n",
            "1083.7     1\n",
            "2349.8     1\n",
            "5222.3     1\n",
            "Name: count, Length: 6531, dtype: int64\n",
            "\n",
            "Resumo do DataFrame após encoding:\n",
            "Total de colunas: 6576\n",
            "\n",
            "Primeiras linhas:\n",
            "   account_Charges.Total_996.85  account_Charges.Total_996.95  \\\n",
            "0                           0.0                           0.0   \n",
            "1                           0.0                           0.0   \n",
            "2                           0.0                           0.0   \n",
            "3                           0.0                           0.0   \n",
            "4                           0.0                           0.0   \n",
            "\n",
            "   account_Charges.Total_997.65  account_Charges.Total_997.75  \\\n",
            "0                           0.0                           0.0   \n",
            "1                           0.0                           0.0   \n",
            "2                           0.0                           0.0   \n",
            "3                           0.0                           0.0   \n",
            "4                           0.0                           0.0   \n",
            "\n",
            "   account_Charges.Total_998.1  account_Charges.Total_999.45  \\\n",
            "0                          0.0                           0.0   \n",
            "1                          0.0                           0.0   \n",
            "2                          0.0                           0.0   \n",
            "3                          0.0                           0.0   \n",
            "4                          0.0                           0.0   \n",
            "\n",
            "   account_Charges.Total_999.8  account_Charges.Total_999.9  \\\n",
            "0                          0.0                          0.0   \n",
            "1                          0.0                          0.0   \n",
            "2                          0.0                          0.0   \n",
            "3                          0.0                          0.0   \n",
            "4                          0.0                          0.0   \n",
            "\n",
            "   account_Charges.Total_nan  Churn  \n",
            "0                        0.0    0.0  \n",
            "1                        0.0    0.0  \n",
            "2                        0.0    1.0  \n",
            "3                        0.0    1.0  \n",
            "4                        0.0    1.0  \n"
          ]
        }
      ]
    },
    {
      "cell_type": "markdown",
      "source": [
        "### 1. Tratar os valores vazios em account_Charges.Total\n"
      ],
      "metadata": {
        "id": "W4jPVmFOztXl"
      },
      "id": "W4jPVmFOztXl"
    },
    {
      "cell_type": "code",
      "source": [
        "# Verificar valores problemáticos\n",
        "print(\"Valores únicos problemáticos:\", df_expanded[df_expanded['account_Charges.Total'].str.strip() == \"\"]['account_Charges.Total'].unique())\n",
        "\n",
        "# Substituir valores vazios por NaN e converter para numérico\n",
        "df_expanded['account_Charges.Total'] = pd.to_numeric(df_expanded['account_Charges.Total'].replace(r'^\\s*$', np.nan, regex=True), errors='coerce')\n",
        "\n",
        "# Preencher NaN (opcional - pode ser com média, mediana ou outro método)\n",
        "df_expanded['account_Charges.Total'] = df_expanded['account_Charges.Total'].fillna(df_expanded['account_Charges.Total'].median())"
      ],
      "metadata": {
        "colab": {
          "base_uri": "https://localhost:8080/"
        },
        "id": "3CeoJwjbztMf",
        "outputId": "3014eabc-c73f-4673-ba35-90003e1ca24f"
      },
      "id": "3CeoJwjbztMf",
      "execution_count": 6,
      "outputs": [
        {
          "output_type": "stream",
          "name": "stdout",
          "text": [
            "Valores únicos problemáticos: [' ']\n"
          ]
        }
      ]
    },
    {
      "cell_type": "markdown",
      "source": [
        "### 2. Corrigir a identificação de colunas categóricas"
      ],
      "metadata": {
        "id": "UTaJWgpKz1Qk"
      },
      "id": "UTaJWgpKz1Qk"
    },
    {
      "cell_type": "code",
      "source": [
        "# Identificar corretamente as colunas\n",
        "categorical_cols = [\n",
        "    'customer_gender', 'customer_Partner', 'customer_Dependents',\n",
        "    'phone_PhoneService', 'phone_MultipleLines', 'internet_InternetService',\n",
        "    'internet_OnlineSecurity', 'internet_OnlineBackup', 'internet_DeviceProtection',\n",
        "    'internet_TechSupport', 'internet_StreamingTV', 'internet_StreamingMovies',\n",
        "    'account_Contract', 'account_PaperlessBilling', 'account_PaymentMethod'\n",
        "]\n",
        "\n",
        "numerical_cols = [\n",
        "    'customer_SeniorCitizen', 'customer_tenure',\n",
        "    'account_Charges.Monthly', 'account_Charges.Total'\n",
        "]"
      ],
      "metadata": {
        "id": "yWQ7qDw0zsCr"
      },
      "id": "yWQ7qDw0zsCr",
      "execution_count": 7,
      "outputs": []
    },
    {
      "cell_type": "markdown",
      "source": [
        "### 3. Aplicar One-Hot Encoding apenas nas colunas categóricas corretas"
      ],
      "metadata": {
        "id": "k2j4K3I6z-8l"
      },
      "id": "k2j4K3I6z-8l"
    },
    {
      "cell_type": "code",
      "source": [
        "# One-Hot Encoding apenas para colunas categóricas verdadeiras\n",
        "encoder = OneHotEncoder(drop='first', sparse_output=False, handle_unknown='ignore')\n",
        "encoded_data = encoder.fit_transform(df_expanded[categorical_cols])\n",
        "encoded_cols = encoder.get_feature_names_out(categorical_cols)\n",
        "\n",
        "# Criar DataFrame codificado\n",
        "df_encoded = pd.DataFrame(encoded_data, columns=encoded_cols, index=df_expanded.index)\n",
        "\n",
        "# Concatenar corretamente\n",
        "df_final = pd.concat([\n",
        "    df_expanded[numerical_cols],\n",
        "    df_encoded,\n",
        "    df_expanded['Churn']\n",
        "], axis=1)\n",
        "\n",
        "print(\"\\nDimensões finais:\", df_final.shape)\n",
        "print(\"Colunas numéricas:\", numerical_cols)\n",
        "print(\"Colunas categóricas codificadas:\", len(encoded_cols))"
      ],
      "metadata": {
        "colab": {
          "base_uri": "https://localhost:8080/"
        },
        "id": "0QN0980O0DPI",
        "outputId": "33938c6e-15fe-4238-912a-4e1de62aa928"
      },
      "id": "0QN0980O0DPI",
      "execution_count": 8,
      "outputs": [
        {
          "output_type": "stream",
          "name": "stdout",
          "text": [
            "\n",
            "Dimensões finais: (7256, 46)\n",
            "Colunas numéricas: ['customer_SeniorCitizen', 'customer_tenure', 'account_Charges.Monthly', 'account_Charges.Total']\n",
            "Colunas categóricas codificadas: 41\n"
          ]
        }
      ]
    },
    {
      "cell_type": "markdown",
      "source": [
        "### 4. Verificação final\n"
      ],
      "metadata": {
        "id": "aD5THmY50HD-"
      },
      "id": "aD5THmY50HD-"
    },
    {
      "cell_type": "code",
      "source": [
        "print(\"\\nAmostra dos dados finais:\")\n",
        "print(df_final.iloc[:, -15:].head())  # Mostrar algumas colunas codificadas"
      ],
      "metadata": {
        "colab": {
          "base_uri": "https://localhost:8080/"
        },
        "id": "dqHF6H4m0Ki0",
        "outputId": "ada2780a-78c9-48f8-fcff-ff9a6c083765"
      },
      "id": "dqHF6H4m0Ki0",
      "execution_count": 9,
      "outputs": [
        {
          "output_type": "stream",
          "name": "stdout",
          "text": [
            "\n",
            "Amostra dos dados finais:\n",
            "   internet_StreamingTV_Yes  internet_StreamingTV_nan  \\\n",
            "0                       1.0                       0.0   \n",
            "1                       0.0                       0.0   \n",
            "2                       0.0                       0.0   \n",
            "3                       1.0                       0.0   \n",
            "4                       1.0                       0.0   \n",
            "\n",
            "   internet_StreamingMovies_No internet service  internet_StreamingMovies_Yes  \\\n",
            "0                                           0.0                           0.0   \n",
            "1                                           0.0                           1.0   \n",
            "2                                           0.0                           0.0   \n",
            "3                                           0.0                           1.0   \n",
            "4                                           0.0                           0.0   \n",
            "\n",
            "   internet_StreamingMovies_nan  account_Contract_One year  \\\n",
            "0                           0.0                        1.0   \n",
            "1                           0.0                        0.0   \n",
            "2                           0.0                        0.0   \n",
            "3                           0.0                        0.0   \n",
            "4                           0.0                        0.0   \n",
            "\n",
            "   account_Contract_Two year  account_Contract_nan  \\\n",
            "0                        0.0                   0.0   \n",
            "1                        0.0                   0.0   \n",
            "2                        0.0                   0.0   \n",
            "3                        0.0                   0.0   \n",
            "4                        0.0                   0.0   \n",
            "\n",
            "   account_PaperlessBilling_Yes  account_PaperlessBilling_nan  \\\n",
            "0                           1.0                           0.0   \n",
            "1                           0.0                           0.0   \n",
            "2                           1.0                           0.0   \n",
            "3                           1.0                           0.0   \n",
            "4                           1.0                           0.0   \n",
            "\n",
            "   account_PaymentMethod_Credit card (automatic)  \\\n",
            "0                                            0.0   \n",
            "1                                            0.0   \n",
            "2                                            0.0   \n",
            "3                                            0.0   \n",
            "4                                            0.0   \n",
            "\n",
            "   account_PaymentMethod_Electronic check  account_PaymentMethod_Mailed check  \\\n",
            "0                                     0.0                                 1.0   \n",
            "1                                     0.0                                 1.0   \n",
            "2                                     1.0                                 0.0   \n",
            "3                                     1.0                                 0.0   \n",
            "4                                     0.0                                 1.0   \n",
            "\n",
            "   account_PaymentMethod_nan  Churn  \n",
            "0                        0.0    0.0  \n",
            "1                        0.0    0.0  \n",
            "2                        0.0    1.0  \n",
            "3                        0.0    1.0  \n",
            "4                        0.0    1.0  \n"
          ]
        }
      ]
    },
    {
      "cell_type": "markdown",
      "source": [
        "## 5. Verificação da Proporção de Evasão (Versão Aprimorada)"
      ],
      "metadata": {
        "id": "rLKZpTv6zraI"
      },
      "id": "rLKZpTv6zraI"
    },
    {
      "cell_type": "code",
      "source": [
        "# Adicione estas linhas no início do notebook (célula de importações)\n",
        "import matplotlib.pyplot as plt\n",
        "import seaborn as sns\n",
        "\n",
        "# Verificação detalhada do balanceamento\n",
        "print(\"\\n=== ANÁLISE DE BALANCEAMENTO ===\")\n",
        "\n",
        "# Estatísticas básicas\n",
        "churn_counts = df_final['Churn'].value_counts()\n",
        "churn_percentage = df_final['Churn'].value_counts(normalize=True) * 100\n",
        "\n",
        "# Adicionando métricas de desbalanceamento\n",
        "total_samples = len(df_final)\n",
        "imbalance_ratio = churn_counts[0] / churn_counts[1]  # Razão entre maioria/minoria\n",
        "\n",
        "print(\"\\nDistribuição absoluta:\")\n",
        "print(churn_counts)\n",
        "print(\"\\nDistribuição percentual:\")\n",
        "print(churn_percentage.round(2))\n",
        "print(f\"\\nRazão de desbalanceamento: {imbalance_ratio:.2f}:1\")\n",
        "print(f\"Total de amostras: {total_samples}\")\n",
        "\n",
        "# Visualização aprimorada\n",
        "plt.figure(figsize=(12, 5))\n",
        "\n",
        "# Gráfico 1: Contagem simples\n",
        "plt.subplot(1, 2, 1)\n",
        "sns.countplot(x='Churn', hue='Churn', data=df_final, palette='viridis', legend=False)\n",
        "plt.title('Distribuição de Churn (Contagem)')\n",
        "plt.xlabel('Churn')\n",
        "plt.ylabel('Contagem')\n",
        "\n",
        "# Gráfico 2: Proporção com anotações\n",
        "plt.subplot(1, 2, 2)\n",
        "patches, texts, autotexts = plt.pie(\n",
        "    churn_percentage,\n",
        "    labels=['Não Churn', 'Churn'],\n",
        "    autopct='%.2f%%',\n",
        "    colors=['#2ecc71', '#e74c3c'],\n",
        "    startangle=90\n",
        ")\n",
        "plt.title('Distribuição de Churn (Proporção)')\n",
        "plt.setp(autotexts, size=12, weight=\"bold\")\n",
        "\n",
        "plt.tight_layout()\n",
        "plt.show()\n",
        "\n",
        "# Análise adicional por grupos importantes (opcional)\n",
        "if 'customer_SeniorCitizen' in df_final.columns:\n",
        "    print(\"\\nDistribuição de Churn por SeniorCitizen:\")\n",
        "    print(pd.crosstab(df_final['customer_SeniorCitizen'], df_final['Churn'], normalize='index').round(2))"
      ],
      "metadata": {
        "colab": {
          "base_uri": "https://localhost:8080/",
          "height": 906
        },
        "id": "YvyeacolzXYZ",
        "outputId": "7ee12d07-4442-4e47-83f5-9c37821eed8e"
      },
      "id": "YvyeacolzXYZ",
      "execution_count": 12,
      "outputs": [
        {
          "output_type": "stream",
          "name": "stdout",
          "text": [
            "\n",
            "=== ANÁLISE DE BALANCEAMENTO ===\n",
            "\n",
            "Distribuição absoluta:\n",
            "Churn\n",
            "0.0    5174\n",
            "1.0    1869\n",
            "Name: count, dtype: int64\n",
            "\n",
            "Distribuição percentual:\n",
            "Churn\n",
            "0.0    73.46\n",
            "1.0    26.54\n",
            "Name: proportion, dtype: float64\n",
            "\n",
            "Razão de desbalanceamento: 2.77:1\n",
            "Total de amostras: 7256\n"
          ]
        },
        {
          "output_type": "display_data",
          "data": {
            "text/plain": [
              "<Figure size 1200x500 with 2 Axes>"
            ],
            "image/png": "[encoded data removed]"
          },
          "metadata": {}
        },
        {
          "output_type": "stream",
          "name": "stdout",
          "text": [
            "\n",
            "Distribuição de Churn por SeniorCitizen:\n",
            "Churn                    0.0   1.0\n",
            "customer_SeniorCitizen            \n",
            "0.0                     0.73  0.27\n",
            "1.0                     0.74  0.26\n"
          ]
        }
      ]
    },
    {
      "cell_type": "markdown",
      "source": [
        "## 6. Balanceamento de Classes (opcional)"
      ],
      "metadata": {
        "id": "DhzHzQ2W11jf"
      },
      "id": "DhzHzQ2W11jf"
    },
    {
      "cell_type": "markdown",
      "source": [
        "## 7. Normalização/Padronização (se necessário)"
      ],
      "metadata": {
        "id": "085RsONr2PxQ"
      },
      "id": "085RsONr2PxQ"
    },
    {
      "cell_type": "code",
      "source": [
        "import numpy as np\n",
        "import pandas as pd\n",
        "from sklearn.model_selection import train_test_split\n",
        "from imblearn.over_sampling import SMOTE\n",
        "from sklearn.preprocessing import StandardScaler\n",
        "\n",
        "# 1. Remoção COMPLETA de linhas com qualquer NaN\n",
        "print(\"Tamanho original do DataFrame:\", len(df_final))\n",
        "df_final_clean = df_final.dropna(how='any')  # Remove qualquer linha com NaN\n",
        "print(\"Tamanho após remoção de NaN:\", len(df_final_clean))\n",
        "\n",
        "# 2. Verificação final\n",
        "print(\"\\nValores nulos após limpeza:\")\n",
        "print(df_final_clean.isnull().sum())\n",
        "\n",
        "# 3. Separar features e target\n",
        "X = df_final_clean.drop('Churn', axis=1)\n",
        "y = df_final_clean['Churn']\n",
        "\n",
        "# 4. Verificar balanceamento\n",
        "print(\"\\nDistribuição do target:\")\n",
        "print(y.value_counts(normalize=True))\n",
        "\n",
        "# 5. Dividir em treino e teste\n",
        "X_train, X_test, y_train, y_test = train_test_split(\n",
        "    X, y,\n",
        "    test_size=0.2,\n",
        "    random_state=42,\n",
        "    stratify=y\n",
        ")\n",
        "\n",
        "# 6. Aplicar SMOTE\n",
        "try:\n",
        "    smote = SMOTE(random_state=42)\n",
        "    X_resampled, y_resampled = smote.fit_resample(X_train, y_train)\n",
        "    print(\"\\nShape após SMOTE - X:\", X_resampled.shape, \"y:\", y_resampled.shape)\n",
        "    print(\"Distribuição após SMOTE:\\n\", pd.Series(y_resampled).value_counts())\n",
        "except Exception as e:\n",
        "    print(\"\\nErro no SMOTE:\", str(e))\n",
        "    raise\n",
        "\n",
        "# 7. Identificar colunas numéricas para padronização\n",
        "numeric_cols = ['customer_tenure', 'account_Charges.Monthly', 'account_Charges.Total']\n",
        "\n",
        "# 8. Padronização\n",
        "scaler = StandardScaler()\n",
        "X_resampled[numeric_cols] = scaler.fit_transform(X_resampled[numeric_cols])\n",
        "X_test[numeric_cols] = scaler.transform(X_test[numeric_cols])\n",
        "\n",
        "print(\"\\nProcesso concluído com sucesso!\")\n",
        "print(\"Amostra dos dados padronizados:\")\n",
        "print(X_resampled[numeric_cols].head())"
      ],
      "metadata": {
        "colab": {
          "base_uri": "https://localhost:8080/"
        },
        "id": "qjzIgVyJ11Gl",
        "outputId": "75341179-146f-4409-d709-228a21167a80"
      },
      "id": "qjzIgVyJ11Gl",
      "execution_count": 18,
      "outputs": [
        {
          "output_type": "stream",
          "name": "stdout",
          "text": [
            "Tamanho original do DataFrame: 7256\n",
            "Tamanho após remoção de NaN: 6830\n",
            "\n",
            "Valores nulos após limpeza:\n",
            "customer_SeniorCitizen                           0\n",
            "customer_tenure                                  0\n",
            "account_Charges.Monthly                          0\n",
            "account_Charges.Total                            0\n",
            "customer_gender_Male                             0\n",
            "customer_gender_nan                              0\n",
            "customer_Partner_Yes                             0\n",
            "customer_Partner_nan                             0\n",
            "customer_Dependents_Yes                          0\n",
            "customer_Dependents_nan                          0\n",
            "phone_PhoneService_Yes                           0\n",
            "phone_PhoneService_nan                           0\n",
            "phone_MultipleLines_No phone service             0\n",
            "phone_MultipleLines_Yes                          0\n",
            "phone_MultipleLines_nan                          0\n",
            "internet_InternetService_Fiber optic             0\n",
            "internet_InternetService_No                      0\n",
            "internet_InternetService_nan                     0\n",
            "internet_OnlineSecurity_No internet service      0\n",
            "internet_OnlineSecurity_Yes                      0\n",
            "internet_OnlineSecurity_nan                      0\n",
            "internet_OnlineBackup_No internet service        0\n",
            "internet_OnlineBackup_Yes                        0\n",
            "internet_OnlineBackup_nan                        0\n",
            "internet_DeviceProtection_No internet service    0\n",
            "internet_DeviceProtection_Yes                    0\n",
            "internet_DeviceProtection_nan                    0\n",
            "internet_TechSupport_No internet service         0\n",
            "internet_TechSupport_Yes                         0\n",
            "internet_TechSupport_nan                         0\n",
            "internet_StreamingTV_No internet service         0\n",
            "internet_StreamingTV_Yes                         0\n",
            "internet_StreamingTV_nan                         0\n",
            "internet_StreamingMovies_No internet service     0\n",
            "internet_StreamingMovies_Yes                     0\n",
            "internet_StreamingMovies_nan                     0\n",
            "account_Contract_One year                        0\n",
            "account_Contract_Two year                        0\n",
            "account_Contract_nan                             0\n",
            "account_PaperlessBilling_Yes                     0\n",
            "account_PaperlessBilling_nan                     0\n",
            "account_PaymentMethod_Credit card (automatic)    0\n",
            "account_PaymentMethod_Electronic check           0\n",
            "account_PaymentMethod_Mailed check               0\n",
            "account_PaymentMethod_nan                        0\n",
            "Churn                                            0\n",
            "dtype: int64\n",
            "\n",
            "Distribuição do target:\n",
            "Churn\n",
            "0.0    0.733382\n",
            "1.0    0.266618\n",
            "Name: proportion, dtype: float64\n",
            "\n",
            "Shape após SMOTE - X: (8014, 45) y: (8014,)\n",
            "Distribuição após SMOTE:\n",
            " Churn\n",
            "1.0    4007\n",
            "0.0    4007\n",
            "Name: count, dtype: int64\n",
            "\n",
            "Processo concluído com sucesso!\n",
            "Amostra dos dados padronizados:\n",
            "   customer_tenure  account_Charges.Monthly  account_Charges.Total\n",
            "0        -0.577269                -1.502829              -0.860823\n",
            "1         0.030762                -0.170709              -0.115187\n",
            "2         0.800936                 0.990753               1.199358\n",
            "3         0.760400                 0.964243               1.079304\n",
            "4        -1.144766                -1.458094              -0.963995\n"
          ]
        }
      ]
    },
    {
      "cell_type": "markdown",
      "source": [
        "### 1 Pipeline com SMOTE + Scaler:\n",
        "Se você planeja usar SMOTE para balanceamento, integre-o com o scaler em um pipeline para evitar vazamento de dados:"
      ],
      "metadata": {
        "id": "E-28k5Ih2spR"
      },
      "id": "E-28k5Ih2spR"
    },
    {
      "cell_type": "code",
      "source": [
        "from sklearn.linear_model import LogisticRegression\n",
        "from sklearn.pipeline import Pipeline\n",
        "\n",
        "# Já temos X_resampled e y_resampled prontos (com SMOTE aplicado)\n",
        "# Pipeline apenas para modelo (já que scaling foi feito antes)\n",
        "pipeline = Pipeline([\n",
        "    ('model', LogisticRegression())\n",
        "])\n",
        "\n",
        "# Uso com dados já preparados:\n",
        "pipeline.fit(X_resampled, y_resampled)"
      ],
      "metadata": {
        "colab": {
          "base_uri": "https://localhost:8080/",
          "height": 116
        },
        "id": "pmvcUigU2xrO",
        "outputId": "909bd5cf-bedb-40f8-93f9-48334ba812cf"
      },
      "id": "pmvcUigU2xrO",
      "execution_count": 19,
      "outputs": [
        {
          "output_type": "execute_result",
          "data": {
            "text/plain": [
              "Pipeline(steps=[('model', LogisticRegression())])"
            ],
            "text/html": [
              "<style>#sk-container-id-1 {\n",
              "  /* Definition of color scheme common for light and dark mode */\n",
              "  --sklearn-color-text: #000;\n",
              "  --sklearn-color-text-muted: #666;\n",
              "  --sklearn-color-line: gray;\n",
              "  /* Definition of color scheme for unfitted estimators */\n",
              "  --sklearn-color-unfitted-level-0: #fff5e6;\n",
              "  --sklearn-color-unfitted-level-1: #f6e4d2;\n",
              "  --sklearn-color-unfitted-level-2: #ffe0b3;\n",
              "  --sklearn-color-unfitted-level-3: chocolate;\n",
              "  /* Definition of color scheme for fitted estimators */\n",
              "  --sklearn-color-fitted-level-0: #f0f8ff;\n",
              "  --sklearn-color-fitted-level-1: #d4ebff;\n",
              "  --sklearn-color-fitted-level-2: #b3dbfd;\n",
              "  --sklearn-color-fitted-level-3: cornflowerblue;\n",
              "\n",
              "  /* Specific color for light theme */\n",
              "  --sklearn-color-text-on-default-background: var(--sg-text-color, var(--theme-code-foreground, var(--jp-content-font-color1, black)));\n",
              "  --sklearn-color-background: var(--sg-background-color, var(--theme-background, var(--jp-layout-color0, white)));\n",
              "  --sklearn-color-border-box: var(--sg-text-color, var(--theme-code-foreground, var(--jp-content-font-color1, black)));\n",
              "  --sklearn-color-icon: #696969;\n",
              "\n",
              "  @media (prefers-color-scheme: dark) {\n",
              "    /* Redefinition of color scheme for dark theme */\n",
              "    --sklearn-color-text-on-default-background: var(--sg-text-color, var(--theme-code-foreground, var(--jp-content-font-color1, white)));\n",
              "    --sklearn-color-background: var(--sg-background-color, var(--theme-background, var(--jp-layout-color0, #111)));\n",
              "    --sklearn-color-border-box: var(--sg-text-color, var(--theme-code-foreground, var(--jp-content-font-color1, white)));\n",
              "    --sklearn-color-icon: #878787;\n",
              "  }\n",
              "}\n",
              "\n",
              "#sk-container-id-1 {\n",
              "  color: var(--sklearn-color-text);\n",
              "}\n",
              "\n",
              "#sk-container-id-1 pre {\n",
              "  padding: 0;\n",
              "}\n",
              "\n",
              "#sk-container-id-1 input.sk-hidden--visually {\n",
              "  border: 0;\n",
              "  clip: rect(1px 1px 1px 1px);\n",
              "  clip: rect(1px, 1px, 1px, 1px);\n",
              "  height: 1px;\n",
              "  margin: -1px;\n",
              "  overflow: hidden;\n",
              "  padding: 0;\n",
              "  position: absolute;\n",
              "  width: 1px;\n",
              "}\n",
              "\n",
              "#sk-container-id-1 div.sk-dashed-wrapped {\n",
              "  border: 1px dashed var(--sklearn-color-line);\n",
              "  margin: 0 0.4em 0.5em 0.4em;\n",
              "  box-sizing: border-box;\n",
              "  padding-bottom: 0.4em;\n",
              "  background-color: var(--sklearn-color-background);\n",
              "}\n",
              "\n",
              "#sk-container-id-1 div.sk-container {\n",
              "  /* jupyter's `normalize.less` sets `[hidden] { display: none; }`\n",
              "     but bootstrap.min.css set `[hidden] { display: none !important; }`\n",
              "     so we also need the `!important` here to be able to override the\n",
              "     default hidden behavior on the sphinx rendered scikit-learn.org.\n",
              "     See: https://github.com/scikit-learn/scikit-learn/issues/21755 */\n",
              "  display: inline-block !important;\n",
              "  position: relative;\n",
              "}\n",
              "\n",
              "#sk-container-id-1 div.sk-text-repr-fallback {\n",
              "  display: none;\n",
              "}\n",
              "\n",
              "div.sk-parallel-item,\n",
              "div.sk-serial,\n",
              "div.sk-item {\n",
              "  /* draw centered vertical line to link estimators */\n",
              "  background-image: linear-gradient(var(--sklearn-color-text-on-default-background), var(--sklearn-color-text-on-default-background));\n",
              "  background-size: 2px 100%;\n",
              "  background-repeat: no-repeat;\n",
              "  background-position: center center;\n",
              "}\n",
              "\n",
              "/* Parallel-specific style estimator block */\n",
              "\n",
              "#sk-container-id-1 div.sk-parallel-item::after {\n",
              "  content: \"\";\n",
              "  width: 100%;\n",
              "  border-bottom: 2px solid var(--sklearn-color-text-on-default-background);\n",
              "  flex-grow: 1;\n",
              "}\n",
              "\n",
              "#sk-container-id-1 div.sk-parallel {\n",
              "  display: flex;\n",
              "  align-items: stretch;\n",
              "  justify-content: center;\n",
              "  background-color: var(--sklearn-color-background);\n",
              "  position: relative;\n",
              "}\n",
              "\n",
              "#sk-container-id-1 div.sk-parallel-item {\n",
              "  display: flex;\n",
              "  flex-direction: column;\n",
              "}\n",
              "\n",
              "#sk-container-id-1 div.sk-parallel-item:first-child::after {\n",
              "  align-self: flex-end;\n",
              "  width: 50%;\n",
              "}\n",
              "\n",
              "#sk-container-id-1 div.sk-parallel-item:last-child::after {\n",
              "  align-self: flex-start;\n",
              "  width: 50%;\n",
              "}\n",
              "\n",
              "#sk-container-id-1 div.sk-parallel-item:only-child::after {\n",
              "  width: 0;\n",
              "}\n",
              "\n",
              "/* Serial-specific style estimator block */\n",
              "\n",
              "#sk-container-id-1 div.sk-serial {\n",
              "  display: flex;\n",
              "  flex-direction: column;\n",
              "  align-items: center;\n",
              "  background-color: var(--sklearn-color-background);\n",
              "  padding-right: 1em;\n",
              "  padding-left: 1em;\n",
              "}\n",
              "\n",
              "\n",
              "/* Toggleable style: style used for estimator/Pipeline/ColumnTransformer box that is\n",
              "clickable and can be expanded/collapsed.\n",
              "- Pipeline and ColumnTransformer use this feature and define the default style\n",
              "- Estimators will overwrite some part of the style using the `sk-estimator` class\n",
              "*/\n",
              "\n",
              "/* Pipeline and ColumnTransformer style (default) */\n",
              "\n",
              "#sk-container-id-1 div.sk-toggleable {\n",
              "  /* Default theme specific background. It is overwritten whether we have a\n",
              "  specific estimator or a Pipeline/ColumnTransformer */\n",
              "  background-color: var(--sklearn-color-background);\n",
              "}\n",
              "\n",
              "/* Toggleable label */\n",
              "#sk-container-id-1 label.sk-toggleable__label {\n",
              "  cursor: pointer;\n",
              "  display: flex;\n",
              "  width: 100%;\n",
              "  margin-bottom: 0;\n",
              "  padding: 0.5em;\n",
              "  box-sizing: border-box;\n",
              "  text-align: center;\n",
              "  align-items: start;\n",
              "  justify-content: space-between;\n",
              "  gap: 0.5em;\n",
              "}\n",
              "\n",
              "#sk-container-id-1 label.sk-toggleable__label .caption {\n",
              "  font-size: 0.6rem;\n",
              "  font-weight: lighter;\n",
              "  color: var(--sklearn-color-text-muted);\n",
              "}\n",
              "\n",
              "#sk-container-id-1 label.sk-toggleable__label-arrow:before {\n",
              "  /* Arrow on the left of the label */\n",
              "  content: \"▸\";\n",
              "  float: left;\n",
              "  margin-right: 0.25em;\n",
              "  color: var(--sklearn-color-icon);\n",
              "}\n",
              "\n",
              "#sk-container-id-1 label.sk-toggleable__label-arrow:hover:before {\n",
              "  color: var(--sklearn-color-text);\n",
              "}\n",
              "\n",
              "/* Toggleable content - dropdown */\n",
              "\n",
              "#sk-container-id-1 div.sk-toggleable__content {\n",
              "  max-height: 0;\n",
              "  max-width: 0;\n",
              "  overflow: hidden;\n",
              "  text-align: left;\n",
              "  /* unfitted */\n",
              "  background-color: var(--sklearn-color-unfitted-level-0);\n",
              "}\n",
              "\n",
              "#sk-container-id-1 div.sk-toggleable__content.fitted {\n",
              "  /* fitted */\n",
              "  background-color: var(--sklearn-color-fitted-level-0);\n",
              "}\n",
              "\n",
              "#sk-container-id-1 div.sk-toggleable__content pre {\n",
              "  margin: 0.2em;\n",
              "  border-radius: 0.25em;\n",
              "  color: var(--sklearn-color-text);\n",
              "  /* unfitted */\n",
              "  background-color: var(--sklearn-color-unfitted-level-0);\n",
              "}\n",
              "\n",
              "#sk-container-id-1 div.sk-toggleable__content.fitted pre {\n",
              "  /* unfitted */\n",
              "  background-color: var(--sklearn-color-fitted-level-0);\n",
              "}\n",
              "\n",
              "#sk-container-id-1 input.sk-toggleable__control:checked~div.sk-toggleable__content {\n",
              "  /* Expand drop-down */\n",
              "  max-height: 200px;\n",
              "  max-width: 100%;\n",
              "  overflow: auto;\n",
              "}\n",
              "\n",
              "#sk-container-id-1 input.sk-toggleable__control:checked~label.sk-toggleable__label-arrow:before {\n",
              "  content: \"▾\";\n",
              "}\n",
              "\n",
              "/* Pipeline/ColumnTransformer-specific style */\n",
              "\n",
              "#sk-container-id-1 div.sk-label input.sk-toggleable__control:checked~label.sk-toggleable__label {\n",
              "  color: var(--sklearn-color-text);\n",
              "  background-color: var(--sklearn-color-unfitted-level-2);\n",
              "}\n",
              "\n",
              "#sk-container-id-1 div.sk-label.fitted input.sk-toggleable__control:checked~label.sk-toggleable__label {\n",
              "  background-color: var(--sklearn-color-fitted-level-2);\n",
              "}\n",
              "\n",
              "/* Estimator-specific style */\n",
              "\n",
              "/* Colorize estimator box */\n",
              "#sk-container-id-1 div.sk-estimator input.sk-toggleable__control:checked~label.sk-toggleable__label {\n",
              "  /* unfitted */\n",
              "  background-color: var(--sklearn-color-unfitted-level-2);\n",
              "}\n",
              "\n",
              "#sk-container-id-1 div.sk-estimator.fitted input.sk-toggleable__control:checked~label.sk-toggleable__label {\n",
              "  /* fitted */\n",
              "  background-color: var(--sklearn-color-fitted-level-2);\n",
              "}\n",
              "\n",
              "#sk-container-id-1 div.sk-label label.sk-toggleable__label,\n",
              "#sk-container-id-1 div.sk-label label {\n",
              "  /* The background is the default theme color */\n",
              "  color: var(--sklearn-color-text-on-default-background);\n",
              "}\n",
              "\n",
              "/* On hover, darken the color of the background */\n",
              "#sk-container-id-1 div.sk-label:hover label.sk-toggleable__label {\n",
              "  color: var(--sklearn-color-text);\n",
              "  background-color: var(--sklearn-color-unfitted-level-2);\n",
              "}\n",
              "\n",
              "/* Label box, darken color on hover, fitted */\n",
              "#sk-container-id-1 div.sk-label.fitted:hover label.sk-toggleable__label.fitted {\n",
              "  color: var(--sklearn-color-text);\n",
              "  background-color: var(--sklearn-color-fitted-level-2);\n",
              "}\n",
              "\n",
              "/* Estimator label */\n",
              "\n",
              "#sk-container-id-1 div.sk-label label {\n",
              "  font-family: monospace;\n",
              "  font-weight: bold;\n",
              "  display: inline-block;\n",
              "  line-height: 1.2em;\n",
              "}\n",
              "\n",
              "#sk-container-id-1 div.sk-label-container {\n",
              "  text-align: center;\n",
              "}\n",
              "\n",
              "/* Estimator-specific */\n",
              "#sk-container-id-1 div.sk-estimator {\n",
              "  font-family: monospace;\n",
              "  border: 1px dotted var(--sklearn-color-border-box);\n",
              "  border-radius: 0.25em;\n",
              "  box-sizing: border-box;\n",
              "  margin-bottom: 0.5em;\n",
              "  /* unfitted */\n",
              "  background-color: var(--sklearn-color-unfitted-level-0);\n",
              "}\n",
              "\n",
              "#sk-container-id-1 div.sk-estimator.fitted {\n",
              "  /* fitted */\n",
              "  background-color: var(--sklearn-color-fitted-level-0);\n",
              "}\n",
              "\n",
              "/* on hover */\n",
              "#sk-container-id-1 div.sk-estimator:hover {\n",
              "  /* unfitted */\n",
              "  background-color: var(--sklearn-color-unfitted-level-2);\n",
              "}\n",
              "\n",
              "#sk-container-id-1 div.sk-estimator.fitted:hover {\n",
              "  /* fitted */\n",
              "  background-color: var(--sklearn-color-fitted-level-2);\n",
              "}\n",
              "\n",
              "/* Specification for estimator info (e.g. \"i\" and \"?\") */\n",
              "\n",
              "/* Common style for \"i\" and \"?\" */\n",
              "\n",
              ".sk-estimator-doc-link,\n",
              "a:link.sk-estimator-doc-link,\n",
              "a:visited.sk-estimator-doc-link {\n",
              "  float: right;\n",
              "  font-size: smaller;\n",
              "  line-height: 1em;\n",
              "  font-family: monospace;\n",
              "  background-color: var(--sklearn-color-background);\n",
              "  border-radius: 1em;\n",
              "  height: 1em;\n",
              "  width: 1em;\n",
              "  text-decoration: none !important;\n",
              "  margin-left: 0.5em;\n",
              "  text-align: center;\n",
              "  /* unfitted */\n",
              "  border: var(--sklearn-color-unfitted-level-1) 1pt solid;\n",
              "  color: var(--sklearn-color-unfitted-level-1);\n",
              "}\n",
              "\n",
              ".sk-estimator-doc-link.fitted,\n",
              "a:link.sk-estimator-doc-link.fitted,\n",
              "a:visited.sk-estimator-doc-link.fitted {\n",
              "  /* fitted */\n",
              "  border: var(--sklearn-color-fitted-level-1) 1pt solid;\n",
              "  color: var(--sklearn-color-fitted-level-1);\n",
              "}\n",
              "\n",
              "/* On hover */\n",
              "div.sk-estimator:hover .sk-estimator-doc-link:hover,\n",
              ".sk-estimator-doc-link:hover,\n",
              "div.sk-label-container:hover .sk-estimator-doc-link:hover,\n",
              ".sk-estimator-doc-link:hover {\n",
              "  /* unfitted */\n",
              "  background-color: var(--sklearn-color-unfitted-level-3);\n",
              "  color: var(--sklearn-color-background);\n",
              "  text-decoration: none;\n",
              "}\n",
              "\n",
              "div.sk-estimator.fitted:hover .sk-estimator-doc-link.fitted:hover,\n",
              ".sk-estimator-doc-link.fitted:hover,\n",
              "div.sk-label-container:hover .sk-estimator-doc-link.fitted:hover,\n",
              ".sk-estimator-doc-link.fitted:hover {\n",
              "  /* fitted */\n",
              "  background-color: var(--sklearn-color-fitted-level-3);\n",
              "  color: var(--sklearn-color-background);\n",
              "  text-decoration: none;\n",
              "}\n",
              "\n",
              "/* Span, style for the box shown on hovering the info icon */\n",
              ".sk-estimator-doc-link span {\n",
              "  display: none;\n",
              "  z-index: 9999;\n",
              "  position: relative;\n",
              "  font-weight: normal;\n",
              "  right: .2ex;\n",
              "  padding: .5ex;\n",
              "  margin: .5ex;\n",
              "  width: min-content;\n",
              "  min-width: 20ex;\n",
              "  max-width: 50ex;\n",
              "  color: var(--sklearn-color-text);\n",
              "  box-shadow: 2pt 2pt 4pt #999;\n",
              "  /* unfitted */\n",
              "  background: var(--sklearn-color-unfitted-level-0);\n",
              "  border: .5pt solid var(--sklearn-color-unfitted-level-3);\n",
              "}\n",
              "\n",
              ".sk-estimator-doc-link.fitted span {\n",
              "  /* fitted */\n",
              "  background: var(--sklearn-color-fitted-level-0);\n",
              "  border: var(--sklearn-color-fitted-level-3);\n",
              "}\n",
              "\n",
              ".sk-estimator-doc-link:hover span {\n",
              "  display: block;\n",
              "}\n",
              "\n",
              "/* \"?\"-specific style due to the `<a>` HTML tag */\n",
              "\n",
              "#sk-container-id-1 a.estimator_doc_link {\n",
              "  float: right;\n",
              "  font-size: 1rem;\n",
              "  line-height: 1em;\n",
              "  font-family: monospace;\n",
              "  background-color: var(--sklearn-color-background);\n",
              "  border-radius: 1rem;\n",
              "  height: 1rem;\n",
              "  width: 1rem;\n",
              "  text-decoration: none;\n",
              "  /* unfitted */\n",
              "  color: var(--sklearn-color-unfitted-level-1);\n",
              "  border: var(--sklearn-color-unfitted-level-1) 1pt solid;\n",
              "}\n",
              "\n",
              "#sk-container-id-1 a.estimator_doc_link.fitted {\n",
              "  /* fitted */\n",
              "  border: var(--sklearn-color-fitted-level-1) 1pt solid;\n",
              "  color: var(--sklearn-color-fitted-level-1);\n",
              "}\n",
              "\n",
              "/* On hover */\n",
              "#sk-container-id-1 a.estimator_doc_link:hover {\n",
              "  /* unfitted */\n",
              "  background-color: var(--sklearn-color-unfitted-level-3);\n",
              "  color: var(--sklearn-color-background);\n",
              "  text-decoration: none;\n",
              "}\n",
              "\n",
              "#sk-container-id-1 a.estimator_doc_link.fitted:hover {\n",
              "  /* fitted */\n",
              "  background-color: var(--sklearn-color-fitted-level-3);\n",
              "}\n",
              "</style><div id=\"sk-container-id-1\" class=\"sk-top-container\"><div class=\"sk-text-repr-fallback\"><pre>Pipeline(steps=[(&#x27;model&#x27;, LogisticRegression())])</pre><b>In a Jupyter environment, please rerun this cell to show the HTML representation or trust the notebook. <br />On GitHub, the HTML representation is unable to render, please try loading this page with nbviewer.org.</b></div><div class=\"sk-container\" hidden><div class=\"sk-item sk-dashed-wrapped\"><div class=\"sk-label-container\"><div class=\"sk-label fitted sk-toggleable\"><input class=\"sk-toggleable__control sk-hidden--visually\" id=\"sk-estimator-id-1\" type=\"checkbox\" ><label for=\"sk-estimator-id-1\" class=\"sk-toggleable__label fitted sk-toggleable__label-arrow\"><div><div>Pipeline</div></div><div><a class=\"sk-estimator-doc-link fitted\" rel=\"noreferrer\" target=\"_blank\" href=\"https://scikit-learn.org/1.6/modules/generated/sklearn.pipeline.Pipeline.html\">?<span>Documentation for Pipeline</span></a><span class=\"sk-estimator-doc-link fitted\">i<span>Fitted</span></span></div></label><div class=\"sk-toggleable__content fitted\"><pre>Pipeline(steps=[(&#x27;model&#x27;, LogisticRegression())])</pre></div> </div></div><div class=\"sk-serial\"><div class=\"sk-item\"><div class=\"sk-estimator fitted sk-toggleable\"><input class=\"sk-toggleable__control sk-hidden--visually\" id=\"sk-estimator-id-2\" type=\"checkbox\" ><label for=\"sk-estimator-id-2\" class=\"sk-toggleable__label fitted sk-toggleable__label-arrow\"><div><div>LogisticRegression</div></div><div><a class=\"sk-estimator-doc-link fitted\" rel=\"noreferrer\" target=\"_blank\" href=\"https://scikit-learn.org/1.6/modules/generated/sklearn.linear_model.LogisticRegression.html\">?<span>Documentation for LogisticRegression</span></a></div></label><div class=\"sk-toggleable__content fitted\"><pre>LogisticRegression()</pre></div> </div></div></div></div></div></div>"
            ]
          },
          "metadata": {},
          "execution_count": 19
        }
      ]
    },
    {
      "cell_type": "markdown",
      "source": [
        "## Fluxo completo com Pipeline integrado (recomendado para novos dados):"
      ],
      "metadata": {
        "id": "e8t0Gd104S0l"
      },
      "id": "e8t0Gd104S0l"
    },
    {
      "cell_type": "code",
      "source": [
        "from imblearn.pipeline import Pipeline\n",
        "from sklearn.model_selection import train_test_split\n",
        "from sklearn.preprocessing import StandardScaler\n",
        "from imblearn.over_sampling import SMOTE\n",
        "from sklearn.linear_model import LogisticRegression\n",
        "\n",
        "# 1. Recarregar dados originais (sem as transformações prévias)\n",
        "X = df_final_clean.drop('Churn', axis=1)\n",
        "y = df_final_clean['Churn']\n",
        "\n",
        "# 2. Dividir em treino/teste\n",
        "X_train, X_test, y_train, y_test = train_test_split(\n",
        "    X, y, test_size=0.2, random_state=42, stratify=y\n",
        ")\n",
        "\n",
        "# 3. Pipeline correto (ordem: scaling -> SMOTE -> modelo)\n",
        "pipeline = Pipeline([\n",
        "    ('scaler', StandardScaler()),\n",
        "    ('smote', SMOTE(random_state=42)),\n",
        "    ('model', LogisticRegression())\n",
        "])\n",
        "\n",
        "# 4. Aplicar apenas no treino\n",
        "pipeline.fit(X_train, y_train)\n",
        "\n",
        "# 5. Avaliar no teste\n",
        "score = pipeline.score(X_test, y_test)\n",
        "print(f\"Acurácia no teste: {score:.4f}\")"
      ],
      "metadata": {
        "colab": {
          "base_uri": "https://localhost:8080/"
        },
        "id": "jnRmVnjn4Utg",
        "outputId": "8004c4ea-783a-4ea4-a94e-18a5ca0d9c1d"
      },
      "id": "jnRmVnjn4Utg",
      "execution_count": 20,
      "outputs": [
        {
          "output_type": "stream",
          "name": "stdout",
          "text": [
            "Acurácia no teste: 0.4978\n"
          ]
        }
      ]
    },
    {
      "cell_type": "markdown",
      "source": [
        "### Problemas na Abordagem Atual:\n",
        "\n",
        "1.  **Dupla Divisão**: Você já dividiu os dados originais em treino/teste antes do SMOTE\n",
        "\n",
        "2.  **Vazamento de Dados**: Balancear ANTES da divisão pode contaminar o conjunto de teste\n",
        "\n",
        "3.  **Estrutura Inconsistente**: O SMOTE foi aplicado apenas no treino (corretamente), mas agora você quer reaplicar divisão\n",
        "\n",
        "### Solução Correta (2 Opções):\n",
        "\n",
        "#### Opção 1: Manter a estrutura atual (recomendado)"
      ],
      "metadata": {
        "id": "Msqr02B95K7f"
      },
      "id": "Msqr02B95K7f"
    },
    {
      "cell_type": "code",
      "source": [
        "# Use os conjuntos já preparados:\n",
        "# X_resampled, y_resampled -> TREINO (já balanceado)\n",
        "# X_test, y_test -> TESTE (original, não balanceado)\n",
        "\n",
        "print(\"\\nDistribuição FINAL:\")\n",
        "print(\"Treino (balanceado):\", pd.Series(y_resampled).value_counts())\n",
        "print(\"Teste (original):\", pd.Series(y_test).value_counts())\n",
        "\n",
        "# Modelagem direta (exemplo):\n",
        "from sklearn.linear_model import LogisticRegression\n",
        "\n",
        "model = LogisticRegression()\n",
        "model.fit(X_resampled, y_resampled)\n",
        "\n",
        "# Avaliação no teste original (não balanceado)\n",
        "from sklearn.metrics import classification_report\n",
        "\n",
        "y_pred = model.predict(X_test)\n",
        "print(\"\\nRelatório de Classificação:\\n\", classification_report(y_test, y_pred))"
      ],
      "metadata": {
        "colab": {
          "base_uri": "https://localhost:8080/"
        },
        "id": "mFzr9OtB5QWT",
        "outputId": "55778e26-030d-4ec4-d31c-3989137f9ac3"
      },
      "id": "mFzr9OtB5QWT",
      "execution_count": 21,
      "outputs": [
        {
          "output_type": "stream",
          "name": "stdout",
          "text": [
            "\n",
            "Distribuição FINAL:\n",
            "Treino (balanceado): Churn\n",
            "1.0    4007\n",
            "0.0    4007\n",
            "Name: count, dtype: int64\n",
            "Teste (original): Churn\n",
            "0.0    1002\n",
            "1.0     364\n",
            "Name: count, dtype: int64\n",
            "\n",
            "Relatório de Classificação:\n",
            "               precision    recall  f1-score   support\n",
            "\n",
            "         0.0       0.00      0.00      0.00      1002\n",
            "         1.0       0.27      1.00      0.42       364\n",
            "\n",
            "    accuracy                           0.27      1366\n",
            "   macro avg       0.13      0.50      0.21      1366\n",
            "weighted avg       0.07      0.27      0.11      1366\n",
            "\n"
          ]
        },
        {
          "output_type": "stream",
          "name": "stderr",
          "text": [
            "/usr/local/lib/python3.11/dist-packages/sklearn/metrics/_classification.py:1565: UndefinedMetricWarning: Precision is ill-defined and being set to 0.0 in labels with no predicted samples. Use `zero_division` parameter to control this behavior.\n",
            "  _warn_prf(average, modifier, f\"{metric.capitalize()} is\", len(result))\n",
            "/usr/local/lib/python3.11/dist-packages/sklearn/metrics/_classification.py:1565: UndefinedMetricWarning: Precision is ill-defined and being set to 0.0 in labels with no predicted samples. Use `zero_division` parameter to control this behavior.\n",
            "  _warn_prf(average, modifier, f\"{metric.capitalize()} is\", len(result))\n",
            "/usr/local/lib/python3.11/dist-packages/sklearn/metrics/_classification.py:1565: UndefinedMetricWarning: Precision is ill-defined and being set to 0.0 in labels with no predicted samples. Use `zero_division` parameter to control this behavior.\n",
            "  _warn_prf(average, modifier, f\"{metric.capitalize()} is\", len(result))\n"
          ]
        }
      ]
    },
    {
      "cell_type": "markdown",
      "source": [
        "### Opção 2: Se realmente quer novo split (para validação)\n",
        "  "
      ],
      "metadata": {
        "id": "l8KlGqo95WRI"
      },
      "id": "l8KlGqo95WRI"
    },
    {
      "cell_type": "code",
      "source": [
        "from sklearn.model_selection import train_test_split\n",
        "\n",
        "# Dividir os dados balanceados em treino/validação (não teste!)\n",
        "X_train, X_val, y_train, y_val = train_test_split(\n",
        "    X_resampled, y_resampled,\n",
        "    test_size=0.2,  # Menor proporção\n",
        "    random_state=42,\n",
        "    stratify=y_resampled\n",
        ")\n",
        "\n",
        "print(\"\\nDistribuição para ajuste de hiperparâmetros:\")\n",
        "print(\"Treino:\", pd.Series(y_train).value_counts())\n",
        "print(\"Validação:\", pd.Series(y_val).value_counts())\n",
        "print(\"Teste (original):\", pd.Series(y_test).value_counts())"
      ],
      "metadata": {
        "colab": {
          "base_uri": "https://localhost:8080/"
        },
        "id": "2f4HTm6L5WGn",
        "outputId": "0acddeaf-fc82-46a8-e37a-c83e58a8d26e"
      },
      "id": "2f4HTm6L5WGn",
      "execution_count": 22,
      "outputs": [
        {
          "output_type": "stream",
          "name": "stdout",
          "text": [
            "\n",
            "Distribuição para ajuste de hiperparâmetros:\n",
            "Treino: Churn\n",
            "1.0    3206\n",
            "0.0    3205\n",
            "Name: count, dtype: int64\n",
            "Validação: Churn\n",
            "0.0    802\n",
            "1.0    801\n",
            "Name: count, dtype: int64\n",
            "Teste (original): Churn\n",
            "0.0    1002\n",
            "1.0     364\n",
            "Name: count, dtype: int64\n"
          ]
        }
      ]
    },
    {
      "cell_type": "markdown",
      "source": [
        "### Verificação Exata:\n"
      ],
      "metadata": {
        "id": "24yWYKcM5uOJ"
      },
      "id": "24yWYKcM5uOJ"
    },
    {
      "cell_type": "code",
      "source": [
        "# Verificação matemática\n",
        "total_original = len(df_final_clean)\n",
        "test_size = 0.2\n",
        "\n",
        "expected_test_0 = int(round(total_original * 0.733 * test_size))  # Não-Churn\n",
        "expected_test_1 = int(round(total_original * 0.267 * test_size))  # Churn\n",
        "\n",
        "print(f\"Esperado no teste: 0.0={expected_test_0}, 1.0={expected_test_1}\")\n",
        "print(f\"Seu resultado: 0.0=1002, 1.0=364\")  # Quase idêntico"
      ],
      "metadata": {
        "colab": {
          "base_uri": "https://localhost:8080/"
        },
        "id": "5vzimd1W5uCs",
        "outputId": "df38670c-741b-481b-ceba-9852747f0726"
      },
      "id": "5vzimd1W5uCs",
      "execution_count": 23,
      "outputs": [
        {
          "output_type": "stream",
          "name": "stdout",
          "text": [
            "Esperado no teste: 0.0=1001, 1.0=365\n",
            "Seu resultado: 0.0=1002, 1.0=364\n"
          ]
        }
      ]
    },
    {
      "cell_type": "markdown",
      "source": [
        "# Análise de Correlação e Seleção de Variáveis\n",
        "\n",
        "Com base nos dados preparados antriormente, avanço para a etapa de análise de correlação e seleção de variáveis mais relevantes para o modelo preditivo de churn.\n",
        "\n",
        "## 1. Análise de Correlação entre Variáveis Numéricas\n",
        "\n",
        "Primeiro, vamos visualizar a matriz de correlação para identificar relações entre as variáveis numéricas:\n"
      ],
      "metadata": {
        "id": "_NjJo1eO7W9c"
      },
      "id": "_NjJo1eO7W9c"
    },
    {
      "cell_type": "code",
      "source": [
        "import matplotlib.pyplot as plt\n",
        "import seaborn as sns\n",
        "\n",
        "# Selecionar apenas as colunas numéricas\n",
        "numeric_cols = ['customer_SeniorCitizen', 'customer_tenure', 'account_Charges.Monthly', 'account_Charges.Total', 'Churn']\n",
        "df_numeric = df_final_clean[numeric_cols]\n",
        "\n",
        "# Calcular matriz de correlação\n",
        "corr_matrix = df_numeric.corr()\n",
        "\n",
        "# Plotar heatmap\n",
        "plt.figure(figsize=(10, 8))\n",
        "sns.heatmap(corr_matrix, annot=True, cmap='coolwarm', center=0)\n",
        "plt.title('Matriz de Correlação entre Variáveis Numéricas')\n",
        "plt.show()"
      ],
      "metadata": {
        "colab": {
          "base_uri": "https://localhost:8080/",
          "height": 865
        },
        "id": "ld_PbBob7m70",
        "outputId": "c54baeb5-e3ac-44ec-e5f5-01e9607c81bb"
      },
      "id": "ld_PbBob7m70",
      "execution_count": 24,
      "outputs": [
        {
          "output_type": "display_data",
          "data": {
            "text/plain": [
              "<Figure size 1000x800 with 2 Axes>"
            ],
            "image/png": "[encoded data removed]"
          },
          "metadata": {}
        }
      ]
    },
    {
      "cell_type": "markdown",
      "source": [
        "## 2. Análises Direcionadas\n",
        "\n",
        "### 2.1 Tempo de contrato (tenure) × Evasão\n",
        "\n",
        "Vamos analisar como o tempo de contrato se relaciona com a evasão:\n"
      ],
      "metadata": {
        "id": "A5aiFpwk7xEz"
      },
      "id": "A5aiFpwk7xEz"
    },
    {
      "cell_type": "code",
      "source": [
        "plt.figure(figsize=(10, 6))\n",
        "sns.boxplot(x='Churn', y='customer_tenure', data=df_final_clean)\n",
        "plt.title('Relação entre Tempo de Contrato e Evasão')\n",
        "plt.xlabel('Churn (0=Não, 1=Sim)')\n",
        "plt.ylabel('Tempo de Contrato (meses)')\n",
        "plt.show()"
      ],
      "metadata": {
        "colab": {
          "base_uri": "https://localhost:8080/",
          "height": 564
        },
        "id": "NSj9rw-P76ug",
        "outputId": "a1bb3ade-dfa7-4df5-e0b3-58e1fa6580a3"
      },
      "id": "NSj9rw-P76ug",
      "execution_count": 25,
      "outputs": [
        {
          "output_type": "display_data",
          "data": {
            "text/plain": [
              "<Figure size 1000x600 with 1 Axes>"
            ],
            "image/png": "[encoded data removed]"
          },
          "metadata": {}
        }
      ]
    },
    {
      "cell_type": "markdown",
      "source": [
        "### 2.2 Total gasto × Evasão\n",
        "\n",
        "Agora, vamos examinar a relação entre o total gasto pelo cliente e a evasão:\n"
      ],
      "metadata": {
        "id": "7gUk4ClD77nH"
      },
      "id": "7gUk4ClD77nH"
    },
    {
      "cell_type": "code",
      "source": [
        "plt.figure(figsize=(10, 6))\n",
        "sns.boxplot(x='Churn', y='account_Charges.Total', data=df_final_clean)\n",
        "plt.title('Relação entre Total Gasto e Evasão')\n",
        "plt.xlabel('Churn (0=Não, 1=Sim)')\n",
        "plt.ylabel('Total Gasto ($)')\n",
        "plt.show()"
      ],
      "metadata": {
        "colab": {
          "base_uri": "https://localhost:8080/",
          "height": 564
        },
        "id": "AJt3HC1r7w2D",
        "outputId": "8d466f08-5868-4234-be49-94df1aff9048"
      },
      "id": "AJt3HC1r7w2D",
      "execution_count": 26,
      "outputs": [
        {
          "output_type": "display_data",
          "data": {
            "text/plain": [
              "<Figure size 1000x600 with 1 Axes>"
            ],
            "image/png": "[encoded data removed]"
          },
          "metadata": {}
        }
      ]
    },
    {
      "cell_type": "markdown",
      "source": [
        "### 2.3 Cargas Mensais × Evasão\n",
        "\n",
        "Vamos também verificar a relação entre as cargas mensais e a evasão:"
      ],
      "metadata": {
        "id": "tM32RrvN8J1_"
      },
      "id": "tM32RrvN8J1_"
    },
    {
      "cell_type": "code",
      "source": [
        "plt.figure(figsize=(10, 6))\n",
        "sns.boxplot(x='Churn', y='account_Charges.Monthly', data=df_final_clean)\n",
        "plt.title('Relação entre Cargas Mensais e Evasão')\n",
        "plt.xlabel('Churn (0=Não, 1=Sim)')\n",
        "plt.ylabel('Carga Mensal ($)')\n",
        "plt.show()"
      ],
      "metadata": {
        "colab": {
          "base_uri": "https://localhost:8080/",
          "height": 564
        },
        "id": "zHYKIjjX8VQv",
        "outputId": "926265d7-fba7-41b4-9703-66274cc92520"
      },
      "id": "zHYKIjjX8VQv",
      "execution_count": 27,
      "outputs": [
        {
          "output_type": "display_data",
          "data": {
            "text/plain": [
              "<Figure size 1000x600 with 1 Axes>"
            ],
            "image/png": "[encoded data removed]"
          },
          "metadata": {}
        }
      ]
    },
    {
      "cell_type": "markdown",
      "source": [
        "## 3. Análise de Variáveis Categóricas\n",
        "\n",
        "Vamos examinar como algumas variáveis categóricas importantes se relacionam com a evasão:\n",
        "\n",
        "### 3.1 Tipo de Contrato × Evasão\n"
      ],
      "metadata": {
        "id": "Ac86Fu6l8i97"
      },
      "id": "Ac86Fu6l8i97"
    },
    {
      "cell_type": "code",
      "source": [
        "contract_churn = df_final_clean.groupby(['account_Contract_One year', 'account_Contract_Two year'])['Churn'].mean().reset_index()\n",
        "contract_churn.columns = ['One year', 'Two year', 'Churn Rate']\n",
        "\n",
        "plt.figure(figsize=(10, 6))\n",
        "sns.barplot(x=['Month-to-month', 'One year', 'Two year'],\n",
        "            y=[df_final_clean[df_final_clean['account_Contract_One year']==0]['Churn'].mean(),\n",
        "               df_final_clean[df_final_clean['account_Contract_One year']==1]['Churn'].mean(),\n",
        "               df_final_clean[df_final_clean['account_Contract_Two year']==1]['Churn'].mean()])\n",
        "plt.title('Taxa de Evasão por Tipo de Contrato')\n",
        "plt.ylabel('Taxa de Evasão')\n",
        "plt.xlabel('Tipo de Contrato')\n",
        "plt.show()"
      ],
      "metadata": {
        "colab": {
          "base_uri": "https://localhost:8080/",
          "height": 564
        },
        "id": "ay7A2y3b8iwY",
        "outputId": "a6a65475-a221-49ab-ad63-0c1a2d30372f"
      },
      "id": "ay7A2y3b8iwY",
      "execution_count": 28,
      "outputs": [
        {
          "output_type": "display_data",
          "data": {
            "text/plain": [
              "<Figure size 1000x600 with 1 Axes>"
            ],
            "image/png": "[encoded data removed]"
          },
          "metadata": {}
        }
      ]
    },
    {
      "cell_type": "markdown",
      "source": [
        "### 3.2 Serviços Adicionais × Evasão\n",
        "\n",
        "Vamos analisar alguns serviços adicionais:"
      ],
      "metadata": {
        "id": "-lpDyg9_8naT"
      },
      "id": "-lpDyg9_8naT"
    },
    {
      "cell_type": "code",
      "source": [
        "services = ['internet_OnlineSecurity_Yes', 'internet_OnlineBackup_Yes',\n",
        "            'internet_DeviceProtection_Yes', 'internet_TechSupport_Yes',\n",
        "            'internet_StreamingTV_Yes', 'internet_StreamingMovies_Yes']\n",
        "\n",
        "plt.figure(figsize=(12, 8))\n",
        "for i, service in enumerate(services, 1):\n",
        "    plt.subplot(2, 3, i)\n",
        "    sns.barplot(x=[0, 1],\n",
        "                y=[df_final_clean[df_final_clean[service]==0]['Churn'].mean(),\n",
        "                   df_final_clean[df_final_clean[service]==1]['Churn'].mean()])\n",
        "    plt.title(service.split('_')[-1])\n",
        "    plt.xlabel('Serviço Adicionado (0=Não, 1=Sim)')\n",
        "    plt.ylabel('Taxa de Evasão')\n",
        "plt.tight_layout()\n",
        "plt.show()"
      ],
      "metadata": {
        "colab": {
          "base_uri": "https://localhost:8080/",
          "height": 807
        },
        "id": "hsYwMiid8nKU",
        "outputId": "dbab16e6-2908-4932-c816-faffb07de0f0"
      },
      "id": "hsYwMiid8nKU",
      "execution_count": 29,
      "outputs": [
        {
          "output_type": "display_data",
          "data": {
            "text/plain": [
              "<Figure size 1200x800 with 6 Axes>"
            ],
            "image/png": "[encoded data removed]"
          },
          "metadata": {}
        }
      ]
    },
    {
      "cell_type": "markdown",
      "source": [
        "# Resumo dos Achados da Análise de Correlação e Seleção de Variáveis\n",
        "\n",
        "## Principais Descobertas\n",
        "\n",
        "### 1. Correlações Fortes com Churn\n",
        "- **Correlações positivas mais fortes**:\n",
        "  - `account.Contract_Month-to-month` (Contrato mensal): +0.40\n",
        "  - `internet.InternetService_Fiber optic`: +0.31\n",
        "  - Indica que clientes com contratos mensais e serviço de fibra óptica têm maior probabilidade de evasão\n",
        "\n",
        "- **Correlações negativas mais fortes**:\n",
        "  - `customer.tenure` (Tempo de contrato): -0.35\n",
        "  - `account.Charges.Total`: -0.20\n",
        "  - `account.Contract_Two year`: -0.30\n",
        "  - `account.Contract_One year`: -0.25\n",
        "  - Mostra que clientes com maior tempo de contrato, maior gasto total e contratos anuais/bienais são mais fiéis\n",
        "\n",
        "### 2. Serviços Adicionais\n",
        "Serviços com correlação negativa moderada com churn:\n",
        "- `internet.OnlineSecurity`: -0.15\n",
        "- `internet.TechSupport`: -0.14\n",
        "- `internet.OnlineBackup`: -0.10\n",
        "- `internet.DeviceProtection`: -0.09\n",
        "- Sugere que clientes que utilizam estes serviços adicionais tendem a permanecer mais tempo\n",
        "\n",
        "### 3. Forma de Pagamento\n",
        "- `account.PaymentMethod_Electronic check` mostra correlação positiva moderada (+0.12)\n",
        "- Indica que pagamentos por cheque eletrônico estão associados a maior rotatividade\n",
        "\n",
        "## Insights Chave para Modelagem\n",
        "\n",
        "1. **Variáveis Prioritárias**:\n",
        "   - Tempo de contrato (`customer.tenure`)\n",
        "   - Tipo de contrato (mensal/anual/bienal)\n",
        "   - Total gasto (`account.Charges.Total`)\n",
        "   - Serviço de internet (fibra óptica)\n",
        "   - Serviços adicionais (segurança, suporte técnico)\n",
        "   - Forma de pagamento\n",
        "\n",
        "2. **Relações Importantes**:\n",
        "   - Clientes com contratos de curto prazo (mensais) são os de maior risco\n",
        "   - A fibra óptica, apesar de ser um serviço premium, está associada a maior evasão (possivelmente por concorrência ou expectativas não atendidas)\n",
        "   - Serviços de segurança e suporte funcionam como \"âncoras\" de retenção\n",
        "\n",
        "3. **Considerações Técnicas**:\n",
        "   - Multicolinearidade entre tempo de contrato e gasto total (esperada e gerenciável)\n",
        "   - Balanceamento de classes já realizado (26.5% churn vs 73.5% não-churn)\n",
        "   - Modelos baseados em árvores podem ser mais adequados para lidar com essas relações não-lineares\n",
        "\n",
        "## Próximos Passos Recomendados\n",
        "\n",
        "1. **Engenharia de Features**:\n",
        "   - Criar categorias de tempo de contrato (ex: 0-12 meses, 13-24 meses, 25+ meses)\n",
        "   - Desenvolver métricas compostas (ex: \"valor gasto por mês\")\n",
        "\n",
        "2. **Seleção Final de Variáveis**:\n",
        "   - Manter as 10-15 variáveis mais relevantes\n",
        "   - Considerar técnicas de seleção automática (SelectKBest, importância de features)\n",
        "\n",
        "3. **Modelagem Preditiva**:\n",
        "   - Testar algoritmos: Regressão Logística (baseline), Random Forest e XGBoost\n",
        "   - Métricas de avaliação: AUC-ROC, Precision-Recall (dado o desbalanceamento)\n",
        "   - Análise SHAP para interpretabilidade do modelo\n",
        "\n",
        "Esta análise corrobora hipóteses iniciais sobre os fatores que influenciam a evasão e fornece uma base sólida para a construção de modelos preditivos eficazes. A próxima etapa focará na modelagem propriamente dita, utilizando essas variáveis-chave identificadas."
      ],
      "metadata": {
        "id": "sqwVcLur9CKH"
      },
      "id": "sqwVcLur9CKH"
    },
    {
      "cell_type": "code",
      "source": [],
      "metadata": {
        "id": "lQXkily_9B71"
      },
      "id": "lQXkily_9B71",
      "execution_count": null,
      "outputs": []
    },
    {
      "cell_type": "markdown",
      "metadata": {
        "id": "fcf9f370"
      },
      "source": [
        "\n"
      ],
      "id": "fcf9f370"
    }
  ],
  "metadata": {
    "language_info": {
      "name": "python"
    },
    "colab": {
      "provenance": []
    },
    "kernelspec": {
      "name": "python3",
      "display_name": "Python 3"
    }
  },
  "nbformat": 4,
  "nbformat_minor": 5
}